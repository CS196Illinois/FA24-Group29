{
 "cells": [
  {
   "cell_type": "code",
   "execution_count": 9,
   "metadata": {},
   "outputs": [
    {
     "name": "stdout",
     "output_type": "stream",
     "text": [
      "Its Cudaaaaa time\n"
     ]
    }
   ],
   "source": [
    "import numpy as np\n",
    "import json\n",
    "import torch \n",
    "import math\n",
    "\n",
    "if torch.cuda.is_available():\n",
    "    print('Its Cudaaaaa time')\n",
    "    torch.set_default_device('cuda')\n",
    "else:\n",
    "    print(\"awww :( no cuda\")\n"
   ]
  },
  {
   "cell_type": "code",
   "execution_count": null,
   "metadata": {},
   "outputs": [],
   "source": [
    "#Hyper Paramaters\n",
    "\n",
    "K_PULL = 1\n",
    "K_PUSH = 1"
   ]
  },
  {
   "cell_type": "code",
   "execution_count": 4,
   "metadata": {},
   "outputs": [
    {
     "name": "stderr",
     "output_type": "stream",
     "text": [
      "<>:1: SyntaxWarning: invalid escape sequence '\\m'\n",
      "<>:1: SyntaxWarning: invalid escape sequence '\\m'\n",
      "C:\\Users\\benja\\AppData\\Local\\Temp\\ipykernel_5256\\721636902.py:1: SyntaxWarning: invalid escape sequence '\\m'\n",
      "  with open('data\\mpd.slice.0-999.json', 'r') as file:\n",
      "C:\\Users\\benja\\AppData\\Local\\Temp\\ipykernel_5256\\721636902.py:1: SyntaxWarning: invalid escape sequence '\\m'\n",
      "  with open('data\\mpd.slice.0-999.json', 'r') as file:\n"
     ]
    },
    {
     "ename": "FileNotFoundError",
     "evalue": "[Errno 2] No such file or directory: 'data\\\\mpd.slice.0-999.json'",
     "output_type": "error",
     "traceback": [
      "\u001b[1;31m---------------------------------------------------------------------------\u001b[0m",
      "\u001b[1;31mFileNotFoundError\u001b[0m                         Traceback (most recent call last)",
      "Cell \u001b[1;32mIn[4], line 1\u001b[0m\n\u001b[1;32m----> 1\u001b[0m \u001b[38;5;28;01mwith\u001b[39;00m \u001b[38;5;28;43mopen\u001b[39;49m\u001b[43m(\u001b[49m\u001b[38;5;124;43m'\u001b[39;49m\u001b[38;5;124;43mdata\u001b[39;49m\u001b[38;5;124;43m\\\u001b[39;49m\u001b[38;5;124;43mmpd.slice.0-999.json\u001b[39;49m\u001b[38;5;124;43m'\u001b[39;49m\u001b[43m,\u001b[49m\u001b[43m \u001b[49m\u001b[38;5;124;43m'\u001b[39;49m\u001b[38;5;124;43mr\u001b[39;49m\u001b[38;5;124;43m'\u001b[39;49m\u001b[43m)\u001b[49m \u001b[38;5;28;01mas\u001b[39;00m file:\n\u001b[0;32m      2\u001b[0m     data \u001b[38;5;241m=\u001b[39m json\u001b[38;5;241m.\u001b[39mload(file)\n\u001b[0;32m      5\u001b[0m \u001b[38;5;28mprint\u001b[39m(data)\n",
      "File \u001b[1;32mc:\\Users\\benja\\anaconda3\\envs\\general\\Lib\\site-packages\\IPython\\core\\interactiveshell.py:310\u001b[0m, in \u001b[0;36m_modified_open\u001b[1;34m(file, *args, **kwargs)\u001b[0m\n\u001b[0;32m    303\u001b[0m \u001b[38;5;28;01mif\u001b[39;00m file \u001b[38;5;129;01min\u001b[39;00m {\u001b[38;5;241m0\u001b[39m, \u001b[38;5;241m1\u001b[39m, \u001b[38;5;241m2\u001b[39m}:\n\u001b[0;32m    304\u001b[0m     \u001b[38;5;28;01mraise\u001b[39;00m \u001b[38;5;167;01mValueError\u001b[39;00m(\n\u001b[0;32m    305\u001b[0m         \u001b[38;5;124mf\u001b[39m\u001b[38;5;124m\"\u001b[39m\u001b[38;5;124mIPython won\u001b[39m\u001b[38;5;124m'\u001b[39m\u001b[38;5;124mt let you open fd=\u001b[39m\u001b[38;5;132;01m{\u001b[39;00mfile\u001b[38;5;132;01m}\u001b[39;00m\u001b[38;5;124m by default \u001b[39m\u001b[38;5;124m\"\u001b[39m\n\u001b[0;32m    306\u001b[0m         \u001b[38;5;124m\"\u001b[39m\u001b[38;5;124mas it is likely to crash IPython. If you know what you are doing, \u001b[39m\u001b[38;5;124m\"\u001b[39m\n\u001b[0;32m    307\u001b[0m         \u001b[38;5;124m\"\u001b[39m\u001b[38;5;124myou can use builtins\u001b[39m\u001b[38;5;124m'\u001b[39m\u001b[38;5;124m open.\u001b[39m\u001b[38;5;124m\"\u001b[39m\n\u001b[0;32m    308\u001b[0m     )\n\u001b[1;32m--> 310\u001b[0m \u001b[38;5;28;01mreturn\u001b[39;00m \u001b[43mio_open\u001b[49m\u001b[43m(\u001b[49m\u001b[43mfile\u001b[49m\u001b[43m,\u001b[49m\u001b[43m \u001b[49m\u001b[38;5;241;43m*\u001b[39;49m\u001b[43margs\u001b[49m\u001b[43m,\u001b[49m\u001b[43m \u001b[49m\u001b[38;5;241;43m*\u001b[39;49m\u001b[38;5;241;43m*\u001b[39;49m\u001b[43mkwargs\u001b[49m\u001b[43m)\u001b[49m\n",
      "\u001b[1;31mFileNotFoundError\u001b[0m: [Errno 2] No such file or directory: 'data\\\\mpd.slice.0-999.json'"
     ]
    }
   ],
   "source": [
    "with open('data\\mpd.slice.0-999.json', 'r') as file:\n",
    "    data = json.load(file)\n",
    "\n",
    "\n",
    "print(data)"
   ]
  },
  {
   "cell_type": "code",
   "execution_count": 17,
   "metadata": {},
   "outputs": [
    {
     "ename": "NameError",
     "evalue": "name 'data' is not defined",
     "output_type": "error",
     "traceback": [
      "\u001b[1;31m---------------------------------------------------------------------------\u001b[0m",
      "\u001b[1;31mNameError\u001b[0m                                 Traceback (most recent call last)",
      "Cell \u001b[1;32mIn[17], line 4\u001b[0m\n\u001b[0;32m      1\u001b[0m songs \u001b[38;5;241m=\u001b[39m {}\n\u001b[0;32m      2\u001b[0m connections \u001b[38;5;241m=\u001b[39m {}\n\u001b[1;32m----> 4\u001b[0m \u001b[38;5;28;01mfor\u001b[39;00m playlist \u001b[38;5;129;01min\u001b[39;00m \u001b[43mdata\u001b[49m[\u001b[38;5;124m'\u001b[39m\u001b[38;5;124mplaylists\u001b[39m\u001b[38;5;124m'\u001b[39m]:\n\u001b[0;32m      5\u001b[0m     \u001b[38;5;28;01mfor\u001b[39;00m idx, track \u001b[38;5;129;01min\u001b[39;00m \u001b[38;5;28menumerate\u001b[39m(playlist[\u001b[38;5;124m'\u001b[39m\u001b[38;5;124mtracks\u001b[39m\u001b[38;5;124m'\u001b[39m]):\n\u001b[0;32m      7\u001b[0m         \u001b[38;5;28;01mif\u001b[39;00m \u001b[38;5;129;01mnot\u001b[39;00m (track[\u001b[38;5;124m'\u001b[39m\u001b[38;5;124martist_name\u001b[39m\u001b[38;5;124m'\u001b[39m] \u001b[38;5;129;01min\u001b[39;00m songs):\n",
      "\u001b[1;31mNameError\u001b[0m: name 'data' is not defined"
     ]
    }
   ],
   "source": [
    "songs = {}\n",
    "connections = {}\n",
    "\n",
    "for playlist in data['playlists']:\n",
    "    for track in playlist['tracks']:\n",
    "        \n",
    "\n",
    "\n",
    "for playlist in data['playlists']:\n",
    "    for idx, track in enumerate(playlist['tracks']):\n",
    "        \n",
    "        if not (track['artist_name'] in songs):\n",
    "            songs.add('artist_name')\n",
    "        for i in range(idx+1,len(playlist['tracks'])):\n",
    "            connection = track['artist_name'] + \":::\" + playlist['tracks'][i]['artist_name']\n",
    "            if connection in connections:\n",
    "                connections[connection] += 1\n",
    "            else:\n",
    "                connections[connection]  = 1"
   ]
  },
  {
   "cell_type": "code",
   "execution_count": 5,
   "metadata": {},
   "outputs": [],
   "source": [
    "nodes = torch.tensor([[0, 0, 0], [0, 3, 0], [0, 0, 4]])\n",
    "#sparse_tensor = dense_tensor.to_sparse()\n",
    "\n",
    "\n",
    "diff = nodes[:, None, :] - nodes[None, :, :]\n",
    "\n",
    "sparse_tensor = diff.to_sparse()\n",
    "\n"
   ]
  },
  {
   "cell_type": "code",
   "execution_count": null,
   "metadata": {},
   "outputs": [],
   "source": [
    "def pullForce(vector1 : torch.tensor, vector2 : torch.tensor):\n",
    "    distance = torch.linalg.norm(vector1 - vector2)\n",
    "    return (1/2) * K_PULL * (distance ** 2)\n"
   ]
  },
  {
   "cell_type": "code",
   "execution_count": 8,
   "metadata": {},
   "outputs": [],
   "source": [
    "def pushForce(vector1 : torch.tensor, vector2 : torch.tensor):\n",
    "    distance = torch.linalg.norm(vector1 - vector2)\n",
    "    return -K_PUSH * math.log(distance)"
   ]
  },
  {
   "cell_type": "code",
   "execution_count": null,
   "metadata": {},
   "outputs": [],
   "source": [
    "def Train(edges : torch.tensor, nodes : torch.tensor,iterations : int):\n",
    "    KE = \n",
    "    diff = nodes[:, None, :] - nodes[None, :, :]\n",
    "    for edge in edges:\n"
   ]
  },
  {
   "cell_type": "code",
   "execution_count": 12,
   "metadata": {},
   "outputs": [
    {
     "name": "stdout",
     "output_type": "stream",
     "text": [
      "tensor([[[ 0,  0,  0],\n",
      "         [-1, -1, -1],\n",
      "         [-1,  0,  1]],\n",
      "\n",
      "        [[ 1,  1,  1],\n",
      "         [ 0,  0,  0],\n",
      "         [ 0,  1,  2]],\n",
      "\n",
      "        [[ 1,  0, -1],\n",
      "         [ 0, -1, -2],\n",
      "         [ 0,  0,  0]]], device='cuda:0')\n"
     ]
    }
   ],
   "source": [
    "nodes = torch.tensor([[5,6,7],[6,7,8],[6,6,6]])\n",
    "\n",
    "diff = nodes[:, None, :] - nodes[None, :, :]\n",
    "print(diff)"
   ]
  },
  {
   "cell_type": "code",
   "execution_count": 16,
   "metadata": {},
   "outputs": [
    {
     "name": "stdout",
     "output_type": "stream",
     "text": [
      "Unique Connections (Differences): tensor([[-1, -1, -1],\n",
      "        [-1,  0,  1],\n",
      "        [-1,  0,  1],\n",
      "        [-1,  0,  1],\n",
      "        [-1,  0,  1],\n",
      "        [ 0,  1,  2],\n",
      "        [ 0,  1,  2],\n",
      "        [ 0,  1,  2],\n",
      "        [ 0,  1,  2],\n",
      "        [ 0,  0,  0],\n",
      "        [ 0,  0,  0],\n",
      "        [ 0,  0,  0],\n",
      "        [ 0,  0,  0],\n",
      "        [ 0,  0,  0],\n",
      "        [ 0,  0,  0]], device='cuda:0')\n",
      "Corresponding Indices (i, j): tensor([[0, 1],\n",
      "        [0, 2],\n",
      "        [0, 3],\n",
      "        [0, 4],\n",
      "        [0, 5],\n",
      "        [1, 2],\n",
      "        [1, 3],\n",
      "        [1, 4],\n",
      "        [1, 5],\n",
      "        [2, 3],\n",
      "        [2, 4],\n",
      "        [2, 5],\n",
      "        [3, 4],\n",
      "        [3, 5],\n",
      "        [4, 5]], device='cuda:0')\n"
     ]
    }
   ],
   "source": [
    "nodes = torch.tensor([[5,6,7],[6,7,8],[6,6,6],[6,6,6],[6,6,6],[6,6,6]])\n",
    "\n",
    "diff = nodes[:, None, :] - nodes[None, :, :]\n",
    "\n",
    "# Create a mask to keep only the upper triangular part (i > j)\n",
    "mask = torch.triu(torch.ones(diff.shape[:2], dtype=bool, device='cuda'), diagonal=1)\n",
    "\n",
    "# Apply the mask\n",
    "unique_diffs = diff[mask]\n",
    "\n",
    "# Print the result\n",
    "#print(unique_diffs)\n",
    "\n",
    "\n",
    "indices_i, indices_j = torch.meshgrid(torch.arange(nodes.shape[0], device='cuda'), \n",
    "                                      torch.arange(nodes.shape[0], device='cuda'), indexing='ij')\n",
    "\n",
    "# Apply the mask to indices\n",
    "unique_indices = torch.stack([indices_i[mask], indices_j[mask]], dim=1)\n",
    "\n",
    "# Print the results\n",
    "print(\"Unique Connections (Differences):\", unique_diffs)\n",
    "print(\"Corresponding Indices (i, j):\", unique_indices)"
   ]
  },
  {
   "cell_type": "code",
   "execution_count": null,
   "metadata": {},
   "outputs": [],
   "source": []
  }
 ],
 "metadata": {
  "kernelspec": {
   "display_name": "general",
   "language": "python",
   "name": "python3"
  },
  "language_info": {
   "codemirror_mode": {
    "name": "ipython",
    "version": 3
   },
   "file_extension": ".py",
   "mimetype": "text/x-python",
   "name": "python",
   "nbconvert_exporter": "python",
   "pygments_lexer": "ipython3",
   "version": "3.12.1"
  }
 },
 "nbformat": 4,
 "nbformat_minor": 2
}
