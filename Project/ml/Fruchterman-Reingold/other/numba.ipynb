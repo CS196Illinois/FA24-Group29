{
 "cells": [
  {
   "cell_type": "code",
   "execution_count": 1,
   "metadata": {},
   "outputs": [
    {
     "name": "stdout",
     "output_type": "stream",
     "text": [
      "Without GPU: 49.4894097999786\n",
      "With GPU: 1.2241665999754332\n"
     ]
    }
   ],
   "source": [
    "from numba import cuda\n",
    "import numpy as np\n",
    "from timeit import default_timer as timer\n",
    "\n",
    "# Normal function to run on CPU\n",
    "def func(a):\t\t\t\t\t\t\t\t \n",
    "    for i in range(len(a)): \n",
    "        a[i] += 1\t\n",
    "\n",
    "# Function optimized to run on GPU\n",
    "@cuda.jit\n",
    "def func2(a): \n",
    "    idx = cuda.grid(1)  # Get the unique thread index in the grid\n",
    "    if idx < a.size:     # Ensure we do not go out of bounds\n",
    "        a[idx] += 1\n",
    "\n",
    "if __name__ == \"__main__\": \n",
    "    n = 100000000\t\t\t\t\t\t\t\n",
    "    a = np.ones(n, dtype=np.float64) \n",
    "    \n",
    "    # Run on CPU\n",
    "    start = timer() \n",
    "    func(a) \n",
    "    print(\"Without GPU:\", timer() - start)\t \n",
    "    \n",
    "    # Allocate memory for GPU and copy array\n",
    "    a_gpu = cuda.to_device(a)\n",
    "    \n",
    "    # Run on GPU\n",
    "    threads_per_block = 256\n",
    "    blocks_per_grid = (a_gpu.size + (threads_per_block - 1)) // threads_per_block\n",
    "    \n",
    "    start = timer() \n",
    "    func2[blocks_per_grid, threads_per_block](a_gpu)  # Launch the kernel\n",
    "    a_gpu.copy_to_host(a)  # Copy result back to host\n",
    "    print(\"With GPU:\", timer() - start)\n"
   ]
  }
 ],
 "metadata": {
  "kernelspec": {
   "display_name": "general",
   "language": "python",
   "name": "python3"
  },
  "language_info": {
   "codemirror_mode": {
    "name": "ipython",
    "version": 3
   },
   "file_extension": ".py",
   "mimetype": "text/x-python",
   "name": "python",
   "nbconvert_exporter": "python",
   "pygments_lexer": "ipython3",
   "version": "3.12.1"
  }
 },
 "nbformat": 4,
 "nbformat_minor": 2
}
